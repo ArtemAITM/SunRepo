{
 "cells": [
  {
   "cell_type": "code",
   "execution_count": 1,
   "metadata": {},
   "outputs": [],
   "source": [
    "import numpy as np\n",
    "import math\n",
    "import matplotlib.pyplot as plt\n",
    "import matplotlib.image as mpimg\n",
    "from PIL import Image "
   ]
  },
  {
   "cell_type": "code",
   "execution_count": 2,
   "metadata": {},
   "outputs": [],
   "source": [
    "def rgb2gray(rgb):\n",
    "    return np.dot(rgb[...,:3], [0.2989, 0.5870, 0.1140])\n",
    "\n",
    "def rgb2gray_tuple(rgb):\n",
    "    return np.dot(rgb, [0.2989, 0.5870, 0.1140])"
   ]
  },
  {
   "cell_type": "code",
   "execution_count": 3,
   "metadata": {},
   "outputs": [],
   "source": [
    "fileName = 'latest_1024_HMIIC.jpg'\n",
    "srcSize = 1024\n",
    "resizeSize = 256\n",
    "x0 = 128\n",
    "y0 = 128\n",
    "R = 110"
   ]
  },
  {
   "cell_type": "code",
   "execution_count": 13,
   "metadata": {},
   "outputs": [],
   "source": [
    "image = Image.open(fileName)\n",
    "image2 = image.resize((resizeSize, resizeSize), Image.ANTIALIAS)\n",
    "image2.show()\n",
    "\n",
    "M = np.zeros((resizeSize, resizeSize))\n",
    "\n",
    "image_processed = Image.new('RGB', (resizeSize, resizeSize)) \n",
    "pixels = image2.load()\n",
    "pixels_processed = image_processed.load()\n",
    "\n",
    "for i in range(resizeSize):\n",
    "    for j in range(resizeSize):\n",
    "        dist = math.sqrt((i - x0) * (i - x0) + (j - y0) * (j - y0))\n",
    "        if (dist > R):\n",
    "            M[i, j] = -1\n",
    "            pixels_processed[i, j] = 64, 64, 255\n",
    "        else:\n",
    "            c = round(rgb2gray_tuple(pixels[i, j]))\n",
    "            if (c<130):\n",
    "                pixels_processed[i, j] = c, c, c\n",
    "                M[i, j] = 1\n",
    "            else:\n",
    "                pixels_processed[i, j] = 255, 255, 255\n",
    "            \n",
    "image_processed.show()"
   ]
  },
  {
   "cell_type": "code",
   "execution_count": 9,
   "metadata": {},
   "outputs": [],
   "source": [
    "V = np.zeros((resizeSize, resizeSize))\n",
    "P = np.zeros((resizeSize, resizeSize))"
   ]
  },
  {
   "cell_type": "code",
   "execution_count": 10,
   "metadata": {},
   "outputs": [],
   "source": [
    "def processPoint(i, j, c):\n",
    "    if (V[i, j] == 1):\n",
    "        return\n",
    "    V[i, j] = 1\n",
    "    if (M[i, j] == 1):\n",
    "        print(\"Точка:\", i, \",\", j, \", номер пятна:\", c)\n",
    "        P[i, j] = c\n",
    "        \n",
    "        if (M[i + 1, j] == 1):\n",
    "            processPoint(i + 1, j, c)\n",
    "        if (M[i - 1, j] == 1):\n",
    "            processPoint(i - 1, j, c)\n",
    "        if (M[i, j + 1] == 1):\n",
    "            processPoint(i, j + 1, c)\n",
    "        if (M[i, j - 1] == 1):\n",
    "            processPoint(i, j - 1, c)\n",
    "        if (M[i + 1, j + 1] == 1):\n",
    "            processPoint(i + 1, j + 1, c)\n",
    "        if (M[i - 1, j - 1] == 1):\n",
    "            processPoint(i - 1, j - 1, c)\n",
    "        if (M[i + 1, j - 1] == 1):\n",
    "            processPoint(i + 1, j - 1, c)\n",
    "        if (M[i - 1, j + 1] == 1):\n",
    "            processPoint(i - 1, j + 1, c)"
   ]
  },
  {
   "cell_type": "code",
   "execution_count": 11,
   "metadata": {},
   "outputs": [
    {
     "name": "stdout",
     "output_type": "stream",
     "text": [
      "Точка: 42 , 77 , номер пятна: 1\n",
      "Точка: 44 , 81 , номер пятна: 2\n",
      "Точка: 47 , 81 , номер пятна: 3\n",
      "Точка: 65 , 89 , номер пятна: 4\n",
      "Точка: 66 , 89 , номер пятна: 4\n",
      "Точка: 67 , 89 , номер пятна: 4\n",
      "Точка: 67 , 90 , номер пятна: 4\n",
      "Точка: 66 , 90 , номер пятна: 4\n",
      "Точка: 65 , 90 , номер пятна: 4\n",
      "Точка: 66 , 91 , номер пятна: 4\n",
      "Точка: 67 , 91 , номер пятна: 4\n",
      "Точка: 193 , 183 , номер пятна: 5\n",
      "Точка: 194 , 182 , номер пятна: 5\n",
      "Точка: 195 , 182 , номер пятна: 5\n",
      "Точка: 199 , 185 , номер пятна: 6\n",
      "Точка: 199 , 186 , номер пятна: 6\n",
      "Число пятен: 6\n"
     ]
    }
   ],
   "source": [
    "V = np.zeros((resizeSize, resizeSize))\n",
    "c = 0\n",
    "\n",
    "for i in range(resizeSize):\n",
    "    for j in range(resizeSize):\n",
    "        if (V[i, j] == 0):\n",
    "            if (M[i, j] == 1):\n",
    "                c = c + 1\n",
    "                processPoint(i, j, c)\n",
    "    \n",
    "print(\"Число пятен:\", c)"
   ]
  },
  {
   "cell_type": "code",
   "execution_count": null,
   "metadata": {},
   "outputs": [],
   "source": []
  },
  {
   "cell_type": "code",
   "execution_count": null,
   "metadata": {},
   "outputs": [],
   "source": []
  }
 ],
 "metadata": {
  "kernelspec": {
   "display_name": "Python 3",
   "language": "python",
   "name": "python3"
  },
  "language_info": {
   "codemirror_mode": {
    "name": "ipython",
    "version": 3
   },
   "file_extension": ".py",
   "mimetype": "text/x-python",
   "name": "python",
   "nbconvert_exporter": "python",
   "pygments_lexer": "ipython3",
   "version": "3.8.5"
  }
 },
 "nbformat": 4,
 "nbformat_minor": 4
}
